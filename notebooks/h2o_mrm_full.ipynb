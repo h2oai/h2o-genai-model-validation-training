{
 "cells": [
  {
   "cell_type": "markdown",
   "id": "0382ba3d",
   "metadata": {},
   "source": [
    "# 🤖 GenAI Model Validation Workshop <a class='anchor' id='top'></a>\n",
    "\n",
    "[Program](https://docs.google.com/document/d/1uqOlTim6czjeK16xXz4tXvYznTxkiy19moeoGNSynSY/edit?tab=t.0#heading=h.8c6jf2k12z8) | [GitHub](https://github.com/h2oai/h2o-genai-model-validation-training) | [Enterprise h2oGPTe](https://h2ogpte.h2oworld.h2o.ai/) | [EvalStudio](https://eval-studio.h2oworld.h2o.ai/)\n"
   ]
  },
  {
   "cell_type": "markdown",
   "id": "5539caa5",
   "metadata": {},
   "source": [
    "## 📝 Outline <a class='anchor' id='outline'></a>\n",
    "1. [Environment Preparation](#preparation)\n",
    "2. [Embedding and Explainability](#embedding_explainability)\n",
    "3. [Test Generation and Benchmarking](#test_gen)\n",
    "4. [Eval Metrics and RAG](#eval_metrics)\n",
    "5. [Human Evals](#human_evals)"
   ]
  },
  {
   "cell_type": "markdown",
   "id": "5f6f58f2",
   "metadata": {},
   "source": [
    "## 🛠️ Environment Preparation <a class='anchor' id='preparation'></a> [↑](#top)"
   ]
  },
  {
   "cell_type": "markdown",
   "id": "30c8b53b",
   "metadata": {},
   "source": [
    "### Check compatibility your browser\n",
    "\n",
    "Run the following cells - they will check compatibility of your browser and refresh the page.\n",
    "\n",
    "*Technical Note: the Python kernel is not impacted by page refresh*"
   ]
  },
  {
   "cell_type": "code",
   "execution_count": 7,
   "id": "ee85ce7a",
   "metadata": {},
   "outputs": [],
   "source": [
    "import ipywidgets as widgets"
   ]
  },
  {
   "cell_type": "code",
   "execution_count": null,
   "id": "764c34b0",
   "metadata": {},
   "outputs": [],
   "source": [
    "from IPython.display import display, Javascript\n",
    "# Refresh the page only if a specific flag is not set\n",
    "def refresh_page_once():\n",
    "    display(Javascript(\"\"\"\n",
    "    if (!localStorage.getItem('pageRefreshed')) {\n",
    "        localStorage.setItem('pageRefreshed', 'true');\n",
    "        window.location.reload();\n",
    "    } else {\n",
    "        localStorage.removeItem('pageRefreshed');\n",
    "    }\n",
    "    \"\"\"))\n",
    "refresh_page_once()"
   ]
  },
  {
   "cell_type": "code",
   "execution_count": 9,
   "id": "c19aefae",
   "metadata": {},
   "outputs": [
    {
     "data": {
      "application/vnd.jupyter.widget-view+json": {
       "model_id": "a828843da2c44b999c082272bb1763ec",
       "version_major": 2,
       "version_minor": 0
      },
      "text/plain": [
       "Button(button_style='success', description='Your browser is OK', disabled=True, style=ButtonStyle())"
      ]
     },
     "execution_count": 9,
     "metadata": {},
     "output_type": "execute_result"
    }
   ],
   "source": [
    "widgets.Button(description=\"Your browser is OK\", disabled=True, button_style='success')"
   ]
  },
  {
   "cell_type": "markdown",
   "id": "f4a96287",
   "metadata": {},
   "source": [
    "### Get h2oGPTe API Key\n",
    "\n",
    "1. Got to [h2oGPTe Settings](https://h2ogpte.h2oworld.h2o.ai/settings).\n",
    "2. Generate new API key and copy the key.\n",
    "3. Fill the key into text box below\n",
    "4. Click on 'Generate config' button"
   ]
  },
  {
   "cell_type": "code",
   "execution_count": 10,
   "id": "243a3770",
   "metadata": {},
   "outputs": [
    {
     "data": {
      "application/vnd.jupyter.widget-view+json": {
       "model_id": "76881dce56b74d94950d671c4bc418aa",
       "version_major": 2,
       "version_minor": 0
      },
      "text/plain": [
       "Text(value='', description='🔑 h2oGPTe API Key', placeholder='Enter your API key', style=TextStyle(description_…"
      ]
     },
     "metadata": {},
     "output_type": "display_data"
    },
    {
     "data": {
      "application/vnd.jupyter.widget-view+json": {
       "model_id": "3a1fc51fbd404805881db66e8b9147a5",
       "version_major": 2,
       "version_minor": 0
      },
      "text/plain": [
       "Button(button_style='success', description='Generate config', icon='check', style=ButtonStyle(), tooltip='Gene…"
      ]
     },
     "metadata": {},
     "output_type": "display_data"
    }
   ],
   "source": [
    "def generate_env(h2ogpte_url):       \n",
    "    h2ogpte_api_key = widgets.Text(placeholder='Enter your API key', description=\"🔑 h2oGPTe API Key\", style={'description_width': 'initial'})\n",
    "    # Create a button to confirm the input\n",
    "    confirm_button = widgets.Button(description='Generate config', button_style='success', tooltip='Generate config',icon='check')\n",
    "\n",
    "    def on_click(b):\n",
    "        with open(\".env\", \"w+\") as f:\n",
    "            f.write(f\"H2OGPTE_API_KEY={h2ogpte_api_key.value}\\n\")\n",
    "            f.write(f\"H2OGPTE_URL='{h2ogpte_url}'\\n\")\n",
    "            f.write(f\"TOKENIZERS_PARALLELISM=false\")\n",
    "    confirm_button.on_click(on_click)\n",
    "\n",
    "    display(h2ogpte_api_key, confirm_button)\n",
    "\n",
    "generate_env(\"https://h2ogpte.h2oworld.h2o.ai\")"
   ]
  },
  {
   "cell_type": "code",
   "execution_count": 26,
   "id": "de67a0d6",
   "metadata": {},
   "outputs": [
    {
     "name": "stdout",
     "output_type": "stream",
     "text": [
      "H2OGPTE_API_KEY=sk-d1SJGpNBH9HBqr8JElpUKPMGYd6bIyIP7CQPgkNZ96sNyRcl\n",
      "H2OGPTE_URL='https://h2ogpte.h2oworld.h2o.ai'\n",
      "TOKENIZERS_PARALLELISM=false"
     ]
    }
   ],
   "source": [
    "!cat .env"
   ]
  },
  {
   "cell_type": "markdown",
   "id": "db1de409",
   "metadata": {},
   "source": [
    "### 🐍 Prepare Python Environment [↑](#top)"
   ]
  },
  {
   "cell_type": "code",
   "execution_count": 12,
   "id": "4fe59426-68b7-4ae4-9b59-6edffdd97758",
   "metadata": {},
   "outputs": [],
   "source": [
    "# Supress Warnings\n",
    "import warnings\n",
    "warnings.filterwarnings(\"ignore\")\n",
    "\n",
    "# Load Environment Variables\n",
    "from dotenv import load_dotenv\n",
    "\n",
    "_ = load_dotenv()"
   ]
  },
  {
   "cell_type": "code",
   "execution_count": null,
   "id": "860fc8e8-2022-4eb5-a753-a11defc9c168",
   "metadata": {},
   "outputs": [],
   "source": [
    "# Python packages\n",
    "from pathlib import Path\n",
    "\n",
    "# Experiment\n",
    "from h2o_mrm.experiment import Experiment\n",
    "\n",
    "# Topic Modeling\n",
    "from h2o_mrm.widgets import topic_model_widget\n",
    "\n",
    "# Question Generation\n",
    "from h2o_mrm.widgets.chunk_nav import create_qa_gen_widget\n",
    "from h2o_mrm.widgets.chunk_nav.core import create_question_generator, create_summarizer\n",
    "\n",
    "# Generated Question Evaluation\n",
    "from h2o_mrm.widgets.aw_data_table import create_genqa_eval_widget\n",
    "\n",
    "# RAG Models\n",
    "from h2o_mrm.rag_models import H2OGPTERAG, H2ogpteConfig"
   ]
  },
  {
   "cell_type": "code",
   "execution_count": 16,
   "id": "68e3abcc",
   "metadata": {},
   "outputs": [],
   "source": [
    "CACHE_LOC=\"/tmp/home/jovyan/cache\"\n",
    "DOCS_LOC=\"/tmp/home/jovyan/docs\""
   ]
  },
  {
   "cell_type": "markdown",
   "id": "4cba4498-12c5-4950-995b-f1ab9179fdcf",
   "metadata": {},
   "source": [
    "# 1. Embedding and Explainability <a class='anchor' id='embedding_explainability'></a> [↑](#top)"
   ]
  },
  {
   "cell_type": "markdown",
   "id": "b4261a1c",
   "metadata": {},
   "source": [
    "The goal of experiment is to analyze document [\"Comptroller’s Handbook: Model Risk Management\"](https://www.occ.treas.gov/publications-and-resources/publications/comptrollers-handbook/files/model-risk-management/index-model-risk-management.html) in the context of RAG systems.\n",
    "\n",
    "## Experiment\n",
    "\n",
    "Experiment defines scope of work including documents and rag system under testing.\n",
    "\n",
    "It does:\n",
    " - chunking of document using H2OGPTe chunking strategy.\n",
    " - embedding of chunks into vectors using given embedding model.\n",
    "  \n",
    "\n",
    "> ℹ️ Note: we pre-cached computed results to speed up the workshop\n",
    "  "
   ]
  },
  {
   "cell_type": "code",
   "execution_count": 31,
   "id": "c54c3dd8-d35a-46f2-a09b-0c90bc3a021b",
   "metadata": {},
   "outputs": [],
   "source": [
    "exp = Experiment( \n",
    "    \"OCC Handbook\", # Do not change name since it is used for cache look-ups to speed up computation.\n",
    "    max_tokens_per_chunk=320,\n",
    "    embedding_model_name=\"BAAI/bge-m3\",\n",
    "    cache_dir=CACHE_LOC,\n",
    ")\n",
    "exp.add_documents([f\"{DOCS_LOC}/pub-ch-model-risk.pdf\"])"
   ]
  },
  {
   "cell_type": "code",
   "execution_count": 33,
   "id": "27b3ca12",
   "metadata": {},
   "outputs": [
    {
     "data": {
      "text/plain": [
       "\n",
       "Name:            OCC Handbook\n",
       "Docs:            ['/tmp/home/jovyan/docs/pub-ch-model-risk.pdf']\n",
       "Embedding model: BAAI/bge-m3\n",
       "Chunks:          0 (max tokens/chunk: 320)\n",
       "Topics:\n",
       "\n",
       "\n",
       "Local cache embeddings: /tmp/home/jovyan/cache/chromadb\n",
       "Local cache collection: /tmp/home/jovyan/cache/database.db\n"
      ]
     },
     "execution_count": 33,
     "metadata": {},
     "output_type": "execute_result"
    }
   ],
   "source": [
    "exp"
   ]
  },
  {
   "cell_type": "markdown",
   "id": "b160d92e-fb70-473e-979c-92b90645b632",
   "metadata": {},
   "source": [
    "### Create Chunks\n",
    "\n",
    "Divide document into chunks of specified number of tokens."
   ]
  },
  {
   "cell_type": "code",
   "execution_count": 34,
   "id": "54131845-a157-4a44-82f5-54533d6707eb",
   "metadata": {},
   "outputs": [
    {
     "name": "stderr",
     "output_type": "stream",
     "text": [
      "OMP: Info #276: omp_set_nested routine deprecated, please use omp_set_max_active_levels instead.\n"
     ]
    }
   ],
   "source": [
    "# Create and Save Chunks\n",
    "exp_chunks = exp.chunk_documents()"
   ]
  },
  {
   "cell_type": "markdown",
   "id": "adb4e193",
   "metadata": {},
   "source": [
    "TODO: filter out some chunks that they are not used for topic modeling\n"
   ]
  },
  {
   "cell_type": "markdown",
   "id": "2c2b7ef7-a2b8-4f2a-af16-5a971fed5a5c",
   "metadata": {},
   "source": [
    "#### Topic Modeling"
   ]
  },
  {
   "cell_type": "code",
   "execution_count": null,
   "id": "1ae6b340-8068-42c9-bb44-c7c2c522e316",
   "metadata": {},
   "outputs": [],
   "source": [
    "exp.build_all_topic_models(\n",
    "    n_neighbors=[40],\n",
    "    n_components=[15],\n",
    "    min_cluster_size=[5, 7, 9],\n",
    ")"
   ]
  },
  {
   "cell_type": "code",
   "execution_count": null,
   "id": "443de6c6-a811-474d-b03f-cecd60434832",
   "metadata": {},
   "outputs": [],
   "source": [
    "# List topic models for this experiment\n",
    "exp.list_topic_models()"
   ]
  },
  {
   "cell_type": "code",
   "execution_count": null,
   "id": "2b24aee4",
   "metadata": {},
   "outputs": [],
   "source": [
    "exp.set_best_topic_model()"
   ]
  },
  {
   "cell_type": "code",
   "execution_count": null,
   "id": "63931eb1",
   "metadata": {},
   "outputs": [],
   "source": [
    "from h2o_mrm.viz import create_topics_distribution_pie\n",
    "\n",
    "create_topics_distribution_pie(exp.chunks, exp.topic_names)"
   ]
  },
  {
   "cell_type": "code",
   "execution_count": null,
   "id": "c0f611e3",
   "metadata": {},
   "outputs": [],
   "source": [
    "from h2o_mrm.viz import create_chunk_distribution_map\n",
    "\n",
    "create_chunk_distribution_map(exp.chunks, exp.topic_names)"
   ]
  },
  {
   "cell_type": "code",
   "execution_count": null,
   "id": "19e5fd8c-0dc7-4d7e-9ae5-24383bc87546",
   "metadata": {},
   "outputs": [],
   "source": [
    "tmw = topic_model_widget.create_widget(\n",
    "    tm_config=exp.bertopic_model_config,\n",
    "    create_topic_cluster_data=exp.build_topic_cluster_creator(\n",
    "        show_doc_in_tooltip=True,\n",
    "        show_topic_names=True,\n",
    "    ),\n",
    "    interactive=True,\n",
    ")\n",
    "tmw"
   ]
  },
  {
   "cell_type": "code",
   "execution_count": null,
   "id": "6fca6975-7f4c-4dda-a7ee-d6cdaa974aed",
   "metadata": {},
   "outputs": [],
   "source": [
    "# Change the huperparameters for the Topic Model manually to create a new custom config\n",
    "\n",
    "# my_topic_model_id = exp.add_topic_model(tmw.topic_model_config, name=\"my_topic_model_1\")\n",
    "# exp.set_topic_model(my_topic_model_id)"
   ]
  },
  {
   "cell_type": "code",
   "execution_count": null,
   "id": "3ea6c259-a3bd-45e5-85d1-4446c55ba7d8",
   "metadata": {},
   "outputs": [],
   "source": [
    "exp.get_num_chunks_in_topic_chart()"
   ]
  },
  {
   "cell_type": "markdown",
   "id": "cbb60cc4-7844-400b-b23a-52591f4a0920",
   "metadata": {},
   "source": [
    "# 2. Test Generation and Benchmarking <a class='anchor' id='test_gen'></a> [↑](#top)\n",
    "\n",
    "- Automatic Prompt engineering\n",
    "- Automatic QA generation\n"
   ]
  },
  {
   "cell_type": "code",
   "execution_count": null,
   "id": "8999f9ba-f778-4599-8cc4-28361caec3bc",
   "metadata": {},
   "outputs": [],
   "source": [
    "llama_summerizer = create_summarizer(\n",
    "    model_type=\"h2ogpte\",\n",
    "    model_name=\"meta-llama/Meta-Llama-3.1-70B-Instruct\",\n",
    ")\n",
    "llama_question_generator = create_question_generator(\n",
    "    model_type=\"h2ogpte\",\n",
    "    model_name=\"meta-llama/Meta-Llama-3.1-70B-Instruct\",\n",
    ")"
   ]
  },
  {
   "cell_type": "markdown",
   "id": "0e58eb40-5572-4a3b-82fe-5435d044316a",
   "metadata": {},
   "source": [
    "#### Interactive Question Generation"
   ]
  },
  {
   "cell_type": "code",
   "execution_count": null,
   "id": "7727ff43-8dfa-4b4a-89f2-58e9db2e53b6",
   "metadata": {},
   "outputs": [],
   "source": [
    "question_gen_widget = create_qa_gen_widget(\n",
    "    exp.chunks,\n",
    "    fig_data=exp.fig_data,\n",
    "    summarize_text=llama_summerizer,\n",
    "    generate_questions=llama_question_generator,\n",
    ")\n",
    "question_gen_widget"
   ]
  },
  {
   "cell_type": "markdown",
   "id": "20e6031e-3b1f-4c27-957c-9201e1f1bc9c",
   "metadata": {},
   "source": [
    "#### Automatic Question Generation"
   ]
  },
  {
   "cell_type": "code",
   "execution_count": null,
   "id": "dd789e96-0c8b-4fd4-ba2b-8265143f5db3",
   "metadata": {},
   "outputs": [],
   "source": [
    "# exp.generate_questions(\n",
    "#     topics=[\n",
    "#         2,\n",
    "#     ],\n",
    "#     summarizer=llama_summerizer,\n",
    "#     question_generator=llama_question_generator,\n",
    "#     question_generator_name=\"Meta-Llama-3.1-70B-Instruct\",\n",
    "#     sampling_method=\"twinning\",\n",
    "# )"
   ]
  },
  {
   "cell_type": "code",
   "execution_count": null,
   "id": "80a35419-3036-432f-90c7-589f9c9a26e8",
   "metadata": {},
   "outputs": [],
   "source": [
    "generated_questions = exp.list_generated_questions()\n",
    "print(len(generated_questions))\n",
    "for x in generated_questions[:5]:\n",
    "    print(x)"
   ]
  },
  {
   "cell_type": "markdown",
   "id": "b7124db2-574d-44ae-a47b-c698364f83fc",
   "metadata": {},
   "source": [
    "#### Evaluate Generated Questions"
   ]
  },
  {
   "cell_type": "code",
   "execution_count": null,
   "id": "6018c333-814b-4577-81e4-a6e64f9e2f9e",
   "metadata": {},
   "outputs": [],
   "source": [
    "exp.validate_generated_questions()"
   ]
  },
  {
   "cell_type": "markdown",
   "id": "6d9443eb-c06b-46da-8d1f-307d80dcada4",
   "metadata": {},
   "source": [
    "#### Load Validated Questions in a Widget"
   ]
  },
  {
   "cell_type": "code",
   "execution_count": null,
   "id": "b7ab96c2-6c71-4ff2-a7ef-635fd54824ba",
   "metadata": {},
   "outputs": [],
   "source": [
    "validated_questions = exp.get_validated_questions()\n",
    "genq_eval_widget = create_genqa_eval_widget(validated_questions)\n",
    "genq_eval_widget"
   ]
  },
  {
   "cell_type": "markdown",
   "id": "4dd9d31e-551d-443d-8710-92719508160a",
   "metadata": {},
   "source": [
    "# 3. Eval Metrics and RAG <a class='anchor' id='eval_metrics'></a> [↑](#top)\n",
    "\n",
    "#### Metrics\n",
    "\n",
    "- [X] Groundedness\n",
    "- [X] Context Recall\n",
    "- [X] Context Precision\n",
    "- [X] Recall Relevancy\n",
    "- [X] Precision Relevancy\n",
    "- [X] Answer Relevancy\n",
    "\n"
   ]
  },
  {
   "cell_type": "markdown",
   "id": "1c1e7e66-ce87-4c21-b638-8ce242043f27",
   "metadata": {},
   "source": [
    "#### Get Answers from RAG"
   ]
  },
  {
   "cell_type": "code",
   "execution_count": null,
   "id": "c7158600-b95c-47d8-b7d5-8fafdf965259",
   "metadata": {},
   "outputs": [],
   "source": [
    "rag_name = \"h2ogpte.dev.h2o.ai\"\n",
    "rag_version = \"1.6.0-dev28\"\n",
    "llm_name = \"meta-llama/Meta-Llama-3.1-70B-Instruct\"\n",
    "llm_args = dict(\n",
    "    temperature=0.0,\n",
    "    seed=42,\n",
    "    max_new_tokens=4096,\n",
    ")"
   ]
  },
  {
   "cell_type": "code",
   "execution_count": null,
   "id": "d096fddb-ee69-4d06-9a67-358aba661070",
   "metadata": {},
   "outputs": [],
   "source": [
    "rag_under_test_id = exp.register_rag_under_test(\n",
    "    rag_name=rag_name,\n",
    "    rag_version=rag_version,\n",
    "    llm_name=llm_name,\n",
    "    llm_args=llm_args,\n",
    "    embedding_model_name=\"BAAI/bge-m3\",\n",
    ")\n",
    "rag_under_test_id"
   ]
  },
  {
   "cell_type": "code",
   "execution_count": null,
   "id": "b6e31a8b",
   "metadata": {},
   "outputs": [],
   "source": [
    "%set_env H2OGPTE_API_KEY=\"sk-12ydJa9ujkjrI4wdIXBw4UcfYxmnQemJvsiUYr6uQLk7xu5H\""
   ]
  },
  {
   "cell_type": "code",
   "execution_count": null,
   "id": "dab9de33-01e1-4dfa-b367-f3bf46797f25",
   "metadata": {},
   "outputs": [],
   "source": [
    "rag_collection_name = \"OCC Handbook 3\"\n",
    "config = H2ogpteConfig.from_env()\n",
    "rag = H2OGPTERAG(config, rag_collection_name, llm_name, llm_args)"
   ]
  },
  {
   "cell_type": "code",
   "execution_count": null,
   "id": "35c858a3-c212-4e5d-8f6c-1a9afa3e38c7",
   "metadata": {},
   "outputs": [],
   "source": [
    "rag.add_documents([Path(\"./pub-ch-model-risk.pdf\")])"
   ]
  },
  {
   "cell_type": "code",
   "execution_count": null,
   "id": "d3ad5025-709a-46ee-8daa-0d4bbaa350ac",
   "metadata": {},
   "outputs": [],
   "source": [
    "exp.get_answers_from_rag(\n",
    "    rag_under_test_id=rag_under_test_id,\n",
    "    answer_question=rag.answer_question,\n",
    ")"
   ]
  },
  {
   "cell_type": "code",
   "execution_count": null,
   "id": "5a8b6e73-ecd9-48ea-9529-45fcd892ffc3",
   "metadata": {},
   "outputs": [],
   "source": [
    "exp.add_rag_chunks(rag_under_test_id, rag.get_all_chunks)"
   ]
  },
  {
   "cell_type": "code",
   "execution_count": null,
   "id": "eb335e23-a208-4828-a398-4867d4ab37ba",
   "metadata": {},
   "outputs": [],
   "source": [
    "exp.evaluate_answers(rag_under_test_id)"
   ]
  },
  {
   "cell_type": "code",
   "execution_count": null,
   "id": "ca89bc31-d87e-4913-a4a2-3c955dfb75a3",
   "metadata": {},
   "outputs": [],
   "source": [
    "exp.plot_metrics(rag_under_test_id)"
   ]
  },
  {
   "cell_type": "markdown",
   "id": "fd075930-b301-4255-b89b-e2dc0b8e061f",
   "metadata": {},
   "source": [
    "# 4. Human Evaluation <a class='anchor' id='human_evals'></a> [↑](#top)"
   ]
  },
  {
   "cell_type": "code",
   "execution_count": null,
   "id": "676d0df7",
   "metadata": {},
   "outputs": [],
   "source": []
  }
 ],
 "metadata": {
  "kernelspec": {
   "display_name": ".venv",
   "language": "python",
   "name": "python3"
  },
  "language_info": {
   "codemirror_mode": {
    "name": "ipython",
    "version": 3
   },
   "file_extension": ".py",
   "mimetype": "text/x-python",
   "name": "python",
   "nbconvert_exporter": "python",
   "pygments_lexer": "ipython3",
   "version": "3.11.10"
  }
 },
 "nbformat": 4,
 "nbformat_minor": 5
}
